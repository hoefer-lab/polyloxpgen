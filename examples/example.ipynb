{
 "cells": [
  {
   "cell_type": "markdown",
   "metadata": {},
   "source": [
    "##### **Workflow example**\n",
    "\n",
    "polyloxpgen contains two main methods\n",
    "- polylox_merge: merge samples from multiple raw barcode files ([RPBPBR](https://github.com/hoefer-lab/RPBPBR) output)\n",
    "- polylox_pgen: purge barcodes and compute pgen for single or multiple samples\n"
   ]
  },
  {
   "cell_type": "markdown",
   "metadata": {
    "tags": []
   },
   "source": [
    "##### **Installation**\n",
    "\n",
    "to use polyloxpgen and the above methods, install it via\n",
    "\n",
    "```\n",
    "pip install polyloxpgen\n",
    "```"
   ]
  },
  {
   "cell_type": "code",
   "execution_count": 1,
   "metadata": {},
   "outputs": [],
   "source": [
    "# after installation, import the package via\n",
    "import polyloxpgen"
   ]
  },
  {
   "cell_type": "markdown",
   "metadata": {},
   "source": [
    "##### **Notes on file format**\n",
    "\n",
    "- all input and output files here use tab-separated values (TSV) files (saved as .txt)\n",
    "- the required file formats (headers, columns, rows) can be seen in the examples folder\n",
    "- by default, barcodes are surrounded by quote marks (for Excel)\n",
    "    - otherwise Excel would alter barcodes sometimes falsely to dates or scientific numbers"
   ]
  },
  {
   "cell_type": "markdown",
   "metadata": {},
   "source": [
    "##### **polylox_merge**\n",
    "\n",
    "below we merge two data sets (in this example folder) to a combined dataframe\n"
   ]
  },
  {
   "cell_type": "code",
   "execution_count": 2,
   "metadata": {},
   "outputs": [],
   "source": [
    "### USER INPUT: the user has to specify the following information\n",
    "# the (absolute or relative) paths of the input data sets\n",
    "location_files_in = ['./sample1.barcode.count.txt', './sample2.barcode.count.txt']\n",
    "\n",
    "# how the individual data sets are referred to (\"samples\")\n",
    "sample_names =  ['Sample1', 'Sample2']\n",
    "\n",
    "# folder/directory for the merged output dataframe\n",
    "merge_location_dir_out = './'\n",
    "\n",
    "# name of the output dataframe\n",
    "merge_file_name_out = 'sample1_sample2_merged'\n",
    "###"
   ]
  },
  {
   "cell_type": "code",
   "execution_count": 3,
   "metadata": {},
   "outputs": [
    {
     "name": "stdout",
     "output_type": "stream",
     "text": [
      "Merging data ... Done\n"
     ]
    }
   ],
   "source": [
    "# run polylox_merge by \n",
    "df_merged = polyloxpgen.polylox_merge(location_files_in, sample_names, merge_location_dir_out, merge_file_name_out)"
   ]
  },
  {
   "cell_type": "code",
   "execution_count": 4,
   "metadata": {},
   "outputs": [],
   "source": [
    "# the merged dataframe is saved in examples folder and \n",
    "# can be displayed here by (remove semicolon for output)\n",
    "df_merged;"
   ]
  },
  {
   "cell_type": "markdown",
   "metadata": {},
   "source": [
    "##### **polylox_pgen**\n",
    "\n",
    "the merged dataframe from before (or any dataframe in this format) can then be used\n",
    "- to purge barcodes and reads (eliminate impossible/false barcodes and reads)\n",
    "- to compute the generation probability (pgen) for the purged barcodes"
   ]
  },
  {
   "cell_type": "code",
   "execution_count": 5,
   "metadata": {},
   "outputs": [],
   "source": [
    "### USER INPUT\n",
    "location_file_in = './sample1_sample2_merged.txt'\n",
    "\n",
    "pgen_location_dir_out = './'\n",
    "pgen_file_name_out = 'sample1_sample2_pgen'\n",
    "###"
   ]
  },
  {
   "cell_type": "code",
   "execution_count": 6,
   "metadata": {},
   "outputs": [
    {
     "name": "stdout",
     "output_type": "stream",
     "text": [
      "Loading input data ... Done\n",
      "Loading Polylox libraries ... Done\n",
      "Purging barcodes and reads ... Done\n",
      "Finding minimal recombinations ... Done\n",
      "Computing generation probabilities ... Done\n",
      "Creating output ... Done\n"
     ]
    }
   ],
   "source": [
    "# run polylox_pgen by \n",
    "df_pgen = polyloxpgen.polylox_pgen(location_file_in, pgen_location_dir_out, pgen_file_name_out)"
   ]
  },
  {
   "cell_type": "code",
   "execution_count": 7,
   "metadata": {},
   "outputs": [],
   "source": [
    "# remove semicolon to display output dataframe\n",
    "df_pgen;"
   ]
  },
  {
   "cell_type": "markdown",
   "metadata": {},
   "source": [
    "***Additional options for polylox_pgen***\n",
    "\n",
    "1) **float decimal delimiter**: to open files with European/German Excel, you may want to change the float decimal from '.' (default) to ','\n",
    "\n",
    "use the option as below to change to any desired float decimal (here ',')\n",
    "\n",
    "```python\n",
    "df_pgen = polyloxpgen.polylox_pgen(location_file_in, pgen_location_dir_out, pgen_file_name_out, decimal_float=',')\n",
    "```\n",
    "\n",
    "2) **transition matrix**: the current default pgen computation is based on a uniform transition matrix\n",
    "\n",
    "to reproduce pgens as in the original publication ([Pei et al., Nature, 2017](https://www.nature.com/articles/nature23653)) a length-dependent transition matrix can be used by\n",
    "\n",
    "```python\n",
    "df_pgen = polyloxpgen.polylox_pgen(location_file_in, pgen_location_dir_out, pgen_file_name_out, path_matrix_type='ld_2017')\n",
    "```\n",
    "\n",
    "(this is more a note for reproducibility; the option only marginally affects the computed pgens)"
   ]
  },
  {
   "cell_type": "markdown",
   "metadata": {},
   "source": [
    "##### **References / Final notes**\n",
    "\n",
    "- these scripts are based on the original [polylox (MATLAB)](https://github.com/hoefer-lab/polylox) implementation; see there also for more information\n",
    "- original publication: [Pei et al., Nature, 2017](https://www.nature.com/articles/nature23653)"
   ]
  }
 ],
 "metadata": {
  "kernelspec": {
   "display_name": "Python 3 (ipykernel)",
   "language": "python",
   "name": "python3"
  },
  "language_info": {
   "codemirror_mode": {
    "name": "ipython",
    "version": 3
   },
   "file_extension": ".py",
   "mimetype": "text/x-python",
   "name": "python",
   "nbconvert_exporter": "python",
   "pygments_lexer": "ipython3",
   "version": "3.8.12"
  }
 },
 "nbformat": 4,
 "nbformat_minor": 4
}
