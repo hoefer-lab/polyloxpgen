{
 "cells": [
  {
   "cell_type": "markdown",
   "metadata": {},
   "source": [
    "##### **Workflow example**\n",
    "\n",
    "polyloxpgen contains two main methods\n",
    "- polylox_merge: merge samples from multiple raw barcode files ([RPBPBR](https://github.com/hoefer-lab/RPBPBR) output)\n",
    "- polylox_pgen: purge barcodes and compute pgen for single or multiple samples\n"
   ]
  },
  {
   "cell_type": "markdown",
   "metadata": {
    "tags": []
   },
   "source": [
    "##### **Installation**\n",
    "\n",
    "to use polyloxpgen and the above methods, install it via\n",
    "\n",
    "```\n",
    "pip install polyloxpgen\n",
    "```"
   ]
  },
  {
   "cell_type": "code",
   "execution_count": 4,
   "metadata": {},
   "outputs": [
    {
     "ename": "ModuleNotFoundError",
     "evalue": "No module named 'polyloxpgen'",
     "output_type": "error",
     "traceback": [
      "\u001b[0;31m---------------------------------------------------------------------------\u001b[0m",
      "\u001b[0;31mModuleNotFoundError\u001b[0m                       Traceback (most recent call last)",
      "\u001b[0;32m<ipython-input-4-5ba2e6d55ff2>\u001b[0m in \u001b[0;36m<module>\u001b[0;34m\u001b[0m\n\u001b[1;32m      1\u001b[0m \u001b[0;31m# after installation, import the methods via\u001b[0m\u001b[0;34m\u001b[0m\u001b[0;34m\u001b[0m\u001b[0;34m\u001b[0m\u001b[0m\n\u001b[0;32m----> 2\u001b[0;31m \u001b[0;32mimport\u001b[0m \u001b[0mpolyloxpgen\u001b[0m\u001b[0;34m\u001b[0m\u001b[0;34m\u001b[0m\u001b[0m\n\u001b[0m",
      "\u001b[0;31mModuleNotFoundError\u001b[0m: No module named 'polyloxpgen'"
     ]
    }
   ],
   "source": [
    "# after installation, import the methods via\n",
    "import polyloxpgen"
   ]
  },
  {
   "cell_type": "code",
   "execution_count": 5,
   "metadata": {},
   "outputs": [
    {
     "name": "stdout",
     "output_type": "stream",
     "text": [
      "anyio==3.3.4\n",
      "appnope==0.1.2\n",
      "argon2-cffi==21.1.0\n",
      "attrs==21.2.0\n",
      "Babel==2.9.1\n",
      "backcall==0.2.0\n",
      "bleach==4.1.0\n",
      "certifi==2021.10.8\n",
      "cffi==1.15.0\n",
      "charset-normalizer==2.0.7\n",
      "debugpy==1.5.1\n",
      "decorator==5.1.0\n",
      "defusedxml==0.7.1\n",
      "entrypoints==0.3\n",
      "idna==3.3\n",
      "ipykernel==6.4.2\n",
      "ipython==7.28.0\n",
      "ipython-genutils==0.2.0\n",
      "jedi==0.18.0\n",
      "Jinja2==3.0.2\n",
      "json5==0.9.6\n",
      "jsonschema==4.1.2\n",
      "jupyter-client==7.0.6\n",
      "jupyter-core==4.9.1\n",
      "jupyter-server==1.11.1\n",
      "jupyterlab==3.2.1\n",
      "jupyterlab-pygments==0.1.2\n",
      "jupyterlab-server==2.8.2\n",
      "MarkupSafe==2.0.1\n",
      "matplotlib-inline==0.1.3\n",
      "mistune==0.8.4\n",
      "nbclassic==0.3.4\n",
      "nbclient==0.5.4\n",
      "nbconvert==6.2.0\n",
      "nbformat==5.1.3\n",
      "nest-asyncio==1.5.1\n",
      "notebook==6.4.5\n",
      "numpy==1.21.3\n",
      "packaging==21.0\n",
      "pandas==1.3.4\n",
      "pandocfilters==1.5.0\n",
      "parso==0.8.2\n",
      "pexpect==4.8.0\n",
      "pickleshare==0.7.5\n",
      "-e git+https://github.com/mauricelanghinrichs/polyloxpgen.git@8e8d9874b3c0dbebf311db7e200a6e3cd201d9ce#egg=polyloxpgen\n",
      "prometheus-client==0.11.0\n",
      "prompt-toolkit==3.0.21\n",
      "ptyprocess==0.7.0\n",
      "pycparser==2.20\n",
      "Pygments==2.10.0\n",
      "pyparsing==3.0.3\n",
      "pyrsistent==0.18.0\n",
      "python-dateutil==2.8.2\n",
      "pytz==2021.3\n",
      "pyzmq==22.3.0\n",
      "requests==2.26.0\n",
      "requests-unixsocket==0.2.0\n",
      "Send2Trash==1.8.0\n",
      "six==1.16.0\n",
      "sniffio==1.2.0\n",
      "terminado==0.12.1\n",
      "testpath==0.5.0\n",
      "tornado==6.1\n",
      "traitlets==5.1.1\n",
      "urllib3==1.26.7\n",
      "wcwidth==0.2.5\n",
      "webencodings==0.5.1\n",
      "websocket-client==1.2.1\n"
     ]
    }
   ],
   "source": [
    "!pip freeze "
   ]
  },
  {
   "cell_type": "code",
   "execution_count": 2,
   "metadata": {},
   "outputs": [
    {
     "data": {
      "text/plain": [
       "<module 'numpy' from '/Users/m651s/opt/anaconda3/lib/python3.8/site-packages/numpy/__init__.py'>"
      ]
     },
     "execution_count": 2,
     "metadata": {},
     "output_type": "execute_result"
    }
   ],
   "source": [
    "import numpy\n",
    "numpy"
   ]
  },
  {
   "cell_type": "code",
   "execution_count": 3,
   "metadata": {},
   "outputs": [
    {
     "data": {
      "text/plain": [
       "['/Users/m651s/Documents/Studium/PhD/01_projects/polylox_various/barcode_pipeline/polyloxpgen/examples',\n",
       " '/Users/m651s/opt/anaconda3/lib/python38.zip',\n",
       " '/Users/m651s/opt/anaconda3/lib/python3.8',\n",
       " '/Users/m651s/opt/anaconda3/lib/python3.8/lib-dynload',\n",
       " '',\n",
       " '/Users/m651s/opt/anaconda3/lib/python3.8/site-packages',\n",
       " '/Users/m651s/opt/anaconda3/lib/python3.8/site-packages/aeosa',\n",
       " '/Users/m651s/opt/anaconda3/lib/python3.8/site-packages/IPython/extensions',\n",
       " '/Users/m651s/.ipython']"
      ]
     },
     "execution_count": 3,
     "metadata": {},
     "output_type": "execute_result"
    }
   ],
   "source": [
    "import sys\n",
    "sys.path"
   ]
  },
  {
   "cell_type": "markdown",
   "metadata": {},
   "source": [
    "##### **Notes on file format**\n",
    "\n",
    "- all input and output files here use tab-separated values (TSV) files (saved as .txt)\n",
    "- the required file formats (headers, columns, rows) can be seen in the examples folder\n",
    "- the TSV files *can* (but maybe should not :) ) be opened with Excel\n",
    "    - Excel alters barcodes sometimes falsely to dates or scientific numbers\n",
    "    - to use Excel in a safe manner, see \"Additional options for polylox_pgen\" below"
   ]
  },
  {
   "cell_type": "markdown",
   "metadata": {},
   "source": [
    "##### **polylox_merge**\n",
    "\n",
    "below we merge two data sets (in the example folder) to a combined dataframe\n"
   ]
  },
  {
   "cell_type": "code",
   "execution_count": 5,
   "metadata": {},
   "outputs": [],
   "source": [
    "### USER INPUT: the user has to specify the following information\n",
    "# the (absolute or relative) paths of the input data sets\n",
    "location_files_in = ['./sample1.barcode.count.txt', './sample2.barcode.count.txt']\n",
    "\n",
    "# how the individual data sets are referred to (\"samples\")\n",
    "sample_names =  ['Sample1', 'Sample2']\n",
    "\n",
    "# folder/directory for the merged output dataframe\n",
    "merge_location_dir_out = './'\n",
    "\n",
    "# name of the output dataframe\n",
    "merge_file_name_out = 'sample1_sample2_merged'\n",
    "###"
   ]
  },
  {
   "cell_type": "code",
   "execution_count": 6,
   "metadata": {},
   "outputs": [
    {
     "ename": "AttributeError",
     "evalue": "module 'polyloxpgen' has no attribute 'merge'",
     "output_type": "error",
     "traceback": [
      "\u001b[0;31m---------------------------------------------------------------------------\u001b[0m",
      "\u001b[0;31mAttributeError\u001b[0m                            Traceback (most recent call last)",
      "\u001b[0;32m/var/folders/d6/cn_12s513fj8dymm3xy_tdy9mskn84/T/ipykernel_19695/1746436918.py\u001b[0m in \u001b[0;36m<module>\u001b[0;34m\u001b[0m\n\u001b[0;32m----> 1\u001b[0;31m \u001b[0mpolyloxpgen\u001b[0m\u001b[0;34m.\u001b[0m\u001b[0mmerge\u001b[0m\u001b[0;34m\u001b[0m\u001b[0;34m\u001b[0m\u001b[0m\n\u001b[0m",
      "\u001b[0;31mAttributeError\u001b[0m: module 'polyloxpgen' has no attribute 'merge'"
     ]
    }
   ],
   "source": [
    "polyloxpgen.merge"
   ]
  },
  {
   "cell_type": "code",
   "execution_count": 7,
   "metadata": {},
   "outputs": [
    {
     "ename": "AttributeError",
     "evalue": "module 'polyloxpgen' has no attribute 'polyloxmerge'",
     "output_type": "error",
     "traceback": [
      "\u001b[0;31m---------------------------------------------------------------------------\u001b[0m",
      "\u001b[0;31mAttributeError\u001b[0m                            Traceback (most recent call last)",
      "\u001b[0;32m/var/folders/d6/cn_12s513fj8dymm3xy_tdy9mskn84/T/ipykernel_19695/286894141.py\u001b[0m in \u001b[0;36m<module>\u001b[0;34m\u001b[0m\n\u001b[1;32m      1\u001b[0m \u001b[0;31m# run polylox_merge by\u001b[0m\u001b[0;34m\u001b[0m\u001b[0;34m\u001b[0m\u001b[0;34m\u001b[0m\u001b[0m\n\u001b[0;32m----> 2\u001b[0;31m \u001b[0mdf_merged\u001b[0m \u001b[0;34m=\u001b[0m \u001b[0mpolyloxpgen\u001b[0m\u001b[0;34m.\u001b[0m\u001b[0mpolyloxmerge\u001b[0m\u001b[0;34m.\u001b[0m\u001b[0mpolylox_merge\u001b[0m\u001b[0;34m(\u001b[0m\u001b[0mlocation_files_in\u001b[0m\u001b[0;34m,\u001b[0m \u001b[0msample_names\u001b[0m\u001b[0;34m,\u001b[0m \u001b[0mmerge_location_dir_out\u001b[0m\u001b[0;34m,\u001b[0m \u001b[0mmerge_file_name_out\u001b[0m\u001b[0;34m)\u001b[0m\u001b[0;34m\u001b[0m\u001b[0;34m\u001b[0m\u001b[0m\n\u001b[0m",
      "\u001b[0;31mAttributeError\u001b[0m: module 'polyloxpgen' has no attribute 'polyloxmerge'"
     ]
    }
   ],
   "source": [
    "# run polylox_merge by \n",
    "df_merged = polyloxpgen.polyloxmerge.polylox_merge(location_files_in, sample_names, merge_location_dir_out, merge_file_name_out)"
   ]
  },
  {
   "cell_type": "code",
   "execution_count": 9,
   "metadata": {},
   "outputs": [
    {
     "ename": "AttributeError",
     "evalue": "module 'polyloxpgen' has no attribute 'polyloxpgen'",
     "output_type": "error",
     "traceback": [
      "\u001b[0;31m---------------------------------------------------------------------------\u001b[0m",
      "\u001b[0;31mAttributeError\u001b[0m                            Traceback (most recent call last)",
      "\u001b[0;32m/var/folders/d6/cn_12s513fj8dymm3xy_tdy9mskn84/T/ipykernel_19695/884352674.py\u001b[0m in \u001b[0;36m<module>\u001b[0;34m\u001b[0m\n\u001b[0;32m----> 1\u001b[0;31m \u001b[0mpolyloxpgen\u001b[0m\u001b[0;34m.\u001b[0m\u001b[0mpolyloxpgen\u001b[0m\u001b[0;34m.\u001b[0m\u001b[0mpolyloxpgen\u001b[0m\u001b[0;34m.\u001b[0m\u001b[0mpolyloxpgen\u001b[0m\u001b[0;34m\u001b[0m\u001b[0;34m\u001b[0m\u001b[0m\n\u001b[0m",
      "\u001b[0;31mAttributeError\u001b[0m: module 'polyloxpgen' has no attribute 'polyloxpgen'"
     ]
    }
   ],
   "source": [
    "polyloxpgen.polyloxpgen.polyloxpgen.polyloxpgen"
   ]
  },
  {
   "cell_type": "code",
   "execution_count": 4,
   "metadata": {},
   "outputs": [],
   "source": [
    "# the merged dataframe is saved in examples folder and \n",
    "# can be displayed here by (remove semicolon for output)\n",
    "df_merged;"
   ]
  },
  {
   "cell_type": "markdown",
   "metadata": {},
   "source": [
    "##### **polylox_pgen**\n",
    "\n",
    "the merged dataframe from before (or any dataframe in this format) can then be used\n",
    "- to purge barcodes and reads (eliminate impossible/false barcodes and reads)\n",
    "- to compute the generation probability (pgen) for the purged barcodes"
   ]
  },
  {
   "cell_type": "code",
   "execution_count": 5,
   "metadata": {},
   "outputs": [],
   "source": [
    "### USER INPUT\n",
    "location_file_in = './examples/sample1_sample2_merged.txt'\n",
    "\n",
    "pgen_location_dir_out = './examples/'\n",
    "pgen_file_name_out = 'sample1_sample2_pgen'\n",
    "###"
   ]
  },
  {
   "cell_type": "code",
   "execution_count": 6,
   "metadata": {},
   "outputs": [],
   "source": [
    "# import polylox_pgen script\n",
    "# NOTE: has to be on the same level as this notebook\n",
    "import polylox_pgen"
   ]
  },
  {
   "cell_type": "code",
   "execution_count": 7,
   "metadata": {},
   "outputs": [
    {
     "name": "stdout",
     "output_type": "stream",
     "text": [
      "Loading input data ... Done\n",
      "Loading Polylox libraries ... Done\n",
      "Purging barcodes and reads ... Done\n",
      "Finding minimal recombinations ... Done\n",
      "Computing generation probabilities ... Done\n",
      "Creating output ... Done\n"
     ]
    }
   ],
   "source": [
    "# run polylox_pgen by \n",
    "df_pgen = polylox_pgen.main(location_file_in, pgen_location_dir_out, pgen_file_name_out)"
   ]
  },
  {
   "cell_type": "code",
   "execution_count": 8,
   "metadata": {},
   "outputs": [],
   "source": [
    "# remove semicolon to display output dataframe\n",
    "df_pgen;"
   ]
  },
  {
   "cell_type": "markdown",
   "metadata": {},
   "source": [
    "***Additional options for polylox_pgen***\n",
    "\n",
    "1) **quote marks**: use options as below to surround barcodes and/or sample names with \"protecting\" quote marks\n",
    "\n",
    "this is recommended when opening files with Excel afterwards; it protects barcodes and/or sample names from being altered\n",
    "\n",
    "```python\n",
    "df_pgen = polylox_pgen.main(location_file_in, pgen_location_dir_out, pgen_file_name_out, quote_marks_barcodes=True, quote_marks_samples=True)\n",
    "```\n",
    "2) **float decimal delimiter**: to open files with European/German Excel, you may want to change the float decimal from '.' (default) to ','\n",
    "\n",
    "use the option as below to change to any desired float decimal (here ',')\n",
    "\n",
    "```python\n",
    "df_pgen = polylox_pgen.main(location_file_in, pgen_location_dir_out, pgen_file_name_out, decimal_float=',')\n",
    "```\n",
    "\n",
    "3) **transition matrix**: the current default pgen computation is based on a uniform transition matrix\n",
    "\n",
    "to reproduce pgens as in the original publication ([Pei et al., Nature, 2017](https://www.nature.com/articles/nature23653)) a length-dependent transition matrix can be used by\n",
    "\n",
    "```python\n",
    "df_pgen = polylox_pgen.main(location_file_in, pgen_location_dir_out, pgen_file_name_out, path_matrix_type='ld_2017')\n",
    "```\n",
    "\n",
    "(this is more a note for reproducibility; the option only marginally affects the computed pgens)"
   ]
  },
  {
   "cell_type": "markdown",
   "metadata": {},
   "source": [
    "##### **References / Final notes**\n",
    "\n",
    "- these scripts are based on the original [polylox (MATLAB)](https://github.com/hoefer-lab/polylox) implementation; see there also for more information\n",
    "- original publication: [Pei et al., Nature, 2017](https://www.nature.com/articles/nature23653)"
   ]
  }
 ],
 "metadata": {
  "kernelspec": {
   "display_name": "Python 3",
   "language": "python",
   "name": "python3"
  },
  "language_info": {
   "codemirror_mode": {
    "name": "ipython",
    "version": 3
   },
   "file_extension": ".py",
   "mimetype": "text/x-python",
   "name": "python",
   "nbconvert_exporter": "python",
   "pygments_lexer": "ipython3",
   "version": "3.8.5"
  }
 },
 "nbformat": 4,
 "nbformat_minor": 4
}
